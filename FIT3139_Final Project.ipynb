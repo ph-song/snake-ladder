{
 "cells": [
  {
   "cell_type": "markdown",
   "id": "38c91822",
   "metadata": {},
   "source": [
    "    Name: Pin Hen Song                            Student ID: 32648308"
   ]
  },
  {
   "cell_type": "markdown",
   "id": "a624fd38",
   "metadata": {},
   "source": [
    "# Section 1: Specification Table\n",
    "|    |    |\n",
    "| :- | :- |\n",
    "| **Base model**| 10x10 chance-based snakes an ladders board game |\n",
    "| **Extension assumptions** | Introduce stradegy where every player can roll two dices in each round: one is the number of spaces their own game piece moves, while the other is the number of spaces another player's piece moves, chosen by the player. |\n",
    "| **Techniques showcased**| Monte Carlo & Markov chain & Game Theory |\n",
    "| **Question 1**  | What are the effect of snakes and ladders on expected turns to finish game |\n",
    "| **Question 2** | What are the payoff and Nash equilibrium? |"
   ]
  },
  {
   "cell_type": "markdown",
   "id": "7debe80d",
   "metadata": {},
   "source": [
    "# Setion 2: Introduction"
   ]
  },
  {
   "cell_type": "markdown",
   "id": "cf32b229",
   "metadata": {},
   "source": [
    "## Base Model\n",
    "Snake and Ladder is a stochastic board game played on a 10x10 square grid. Each player starts at square 1 (index 0) and takes turns rolling a dice to determine their movement. The board contains snakes and ladders that can either assist players in advancing or hinder their progress. The objective is to be the first player to reach or exceed the final square.\n",
    "\n",
    "## Extensions\n",
    "The model is extended to allow each player to roll two dice in each round. The active player selects one die to move their game piece forward and can use the remaining die to move another player's game piece. This modification introduces strategic decision-making into the game. The model is further simplified by considering only two players.\n",
    "\n",
    "## Modelling Questions\n",
    "###  Modelling Question 1a: Effect of Number of Snakes and Ladders on Game Duration\n",
    "The impact of the number of snakes and ladders on the duration of the game is analyzed using Monte Carlo simulations and Markov Chain. First, multiple board configurations meeting the specified criteria (number of snakes and ladders) are created. Then, the average number of turns required to complete the game is calculated through Monte Carlo iterations or by determining the absorption time using Markov Chain.\n",
    "\n",
    "### Modelling Question 1b: Effect of Maximum Length of Snakes and Ladders on Game Duration:\n",
    "Similar to the previous problem, the impact of the maximum length of snakes and ladders on the game duration is explored. However, in each iteration, the maximum length of snakes and ladders is altered. The average turns required to finish the game are determined using methods such as Monte Carlo simulation.\n",
    "\n",
    "### Modelling Question 2a: Player Payouts with Different Strategies:\n",
    "The payout or rewards of players utilizing different strategies are evaluated. Three self-benefiting strategies are employed, and their details are explained in the model description. The payout of players can be estimated using Monte Carlo simulations, which involve multiple iterations of game plays.\n",
    "\n",
    "### Modelling Question 2b: Nash Equilibrium\n",
    "The concept of Nash Equilibrium, a solution concept in game theory, can be applied to analyze the strategy in the Snake and Ladder game, where both player maximize their winning rate."
   ]
  },
  {
   "cell_type": "markdown",
   "id": "e6937ef6",
   "metadata": {},
   "source": [
    "# Section 3: Model Description"
   ]
  },
  {
   "cell_type": "markdown",
   "id": "42e35c91",
   "metadata": {},
   "source": [
    "The Snake and Ladder game is a stochastic system with discrete time, which can be simulated using both numerical methods (Monte Carlo simulation) and analytical methods (Markov Chain analysis).\n",
    "\n",
    "## Assumptions\n",
    "- The game involves two players.\n",
    "- There are two fair six-sided dice.\n",
    "- The game board consists of 100 squares.\n",
    "\n",
    "\n",
    "## Game Rules \n",
    "1. Each player starts on square one.\n",
    "2. In each round, both players roll two dice.\n",
    "3. The player whose turn it is chooses one of the dice and moves their game piece forward by the number indicated on that die; while the opponent move their game piece forward by the number indicated on the remaining die.\n",
    "4. If a player lands on the head of a snake, they move to the corresponding tail of that snake.\n",
    "5. If a player lands at the bottom of a ladder, they move to the corresponding top of that ladder.\n",
    "6. If both players reach or pass square 100 in the same round, the game ends in a draw. Otherwise, the first player to reach or pass square 100 wins.\n",
    "\n",
    "## Board Settings Rules\n",
    "1. A snake's head does not occupy the same square as any other snake's head, snake's tail, ladder's top, or ladder's bottom.\n",
    "2. A ladder's bottom does not occupy the same square as any other ladder's top, ladder's bottom, snake's head, or snake's tail.\n",
    "3. The range of ladder indices is 1 to 99 (from ladder bottom to ladder top).\n",
    "4. The range of snake indices is 0 to 98 (from snake tail to snake head).\n",
    "\n",
    "## Strategies\n",
    "There are three strategies that a player can employ:"
   ]
  },
  {
   "cell_type": "markdown",
   "id": "0ce4f7ea",
   "metadata": {},
   "source": [
    "- **Strategy 1:** The player chooses the dice that allows them to move the most steps. In this strategy, the player compares the number of steps they would move with each dice and selects the one with the larger value.\n",
    "- **Strategy 2:** The player chooses the dice that causes the opponent to move the fewest steps. Here, the player compares the number of steps the opponent would move with each dice and selects the one with the smaller value.\n",
    "- **Strategy 3:** The player selects the dice that maximizes the distance between themselves and the opponent if they are ahead or minimizes the distance if they are behind. This strategy involves comparing the difference in steps between the player and the opponent (player's move minus opponent's move) for each available dice and choosing the one that with larger difference."
   ]
  },
  {
   "cell_type": "markdown",
   "id": "9b5b1502",
   "metadata": {},
   "source": [
    "**Example**: For example, the player chooses dice 1, they would move 6 steps while the opponent would move 20 steps. On the other hand, if the player chooses dice 2, they would move 4 steps while the opponent would move 10 steps."
   ]
  },
  {
   "cell_type": "markdown",
   "id": "b2f465a1",
   "metadata": {},
   "source": [
    "|          | player |opponent|\n",
    "|    :-    |   :-   |   :-   |\n",
    "|**dice 1**|   15   |   20   |\n",
    "|**dice 2**|   10   |   8    |"
   ]
  },
  {
   "cell_type": "markdown",
   "id": "043e9d3e",
   "metadata": {},
   "source": [
    "If the player employ,<br>"
   ]
  },
  {
   "cell_type": "markdown",
   "id": "ba0f3b9a",
   "metadata": {},
   "source": [
    "- **Strategy 1:** The player will choose dice 1 since it allows them to move 15 steps, which is more than choosing dice 2, which only moves 10 steps.\n",
    "- **Strategy 2:** The player will choose dice 2 because it causes the opponent to move 8 steps, which is fewer than choosing dice 1, where the opponent would move 20 steps.\n",
    "- **Strategy 3:** The player will choose dice 2 as it results in a change of 2 steps between the player and the opponent. By choosing dice 1, the change would be -5 steps (15-20). Therefore, dice 2 provides a better outcome in terms of minimizing the gap or getting closer to the opponent."
   ]
  },
  {
   "cell_type": "markdown",
   "id": "d6c09415",
   "metadata": {},
   "source": [
    "** note that number of rolled dice and resulting moves can be vary due to the presence of snakes and ladders "
   ]
  },
  {
   "cell_type": "markdown",
   "id": "3a564ab0",
   "metadata": {},
   "source": [
    "## Methodology\n",
    "\n",
    "### Simulation of turns taken finishing a game with Monte Carlo \n",
    "1. generate *n* number of boards with different combination but same number and posibble maximum length of snakes and ladder each\n",
    "2. play each board *m* times\n",
    "3. calculate the mean of turns taken to finish a snake and ladder game \n",
    "\n",
    "```\n",
    "FOR each number of new boards:\n",
    "    FOR each game play iteration:\n",
    "        cumulate turn to finish the board\n",
    "return mean of turns to finish boards\n",
    "```\n",
    "\n",
    "### Simulation of turns taken finishing a game with Markov Chain\n",
    "1. generate *n* number of boards with different combination but same number and posibble maximum length of snakes and ladder each\n",
    "2. generate transition matrix for each board \n",
    "3. calculate absorbing time\n",
    "3. calculate the mean of turns taken to finish a snake and ladder game \n",
    "\n",
    "```\n",
    "FOR each number of new boards:\n",
    "    cumulate absorbing time (turn to finish game)\n",
    "return mean of absorbing time\n",
    "```\n",
    "\n",
    "** note that strategy is not introduced while simulating turns taken finishing game \n",
    "\n",
    "### Simulation of Payout with Monte Carlo\n",
    "1. player 1 and player 2 choose a strategy \n",
    "2. generate *n* number of boards with different combination but same number and posibble maximum length of snakes and ladder each\n",
    "3. play each board *m* times\n",
    "4. calculate the mean of turns taken to finish a snake and ladder game \n",
    "\n",
    "```\n",
    "FOR each combination of strategy:\n",
    "    FOR each number of new boards:\n",
    "        FOR each game play iteration:\n",
    "            cumulate win-rate\n",
    "return win-rate\n",
    "```"
   ]
  },
  {
   "cell_type": "markdown",
   "id": "3cdd3667",
   "metadata": {},
   "source": [
    "# Section 4: Source Code"
   ]
  },
  {
   "cell_type": "code",
   "execution_count": 1,
   "id": "81f77beb",
   "metadata": {},
   "outputs": [],
   "source": [
    "import numpy as np\n",
    "import matplotlib.pyplot as plt\n",
    "from scipy.stats import norm\n",
    "from tqdm.notebook import tqdm_notebook\n",
    "import nashpy as nash\n",
    "import copy"
   ]
  },
  {
   "cell_type": "markdown",
   "id": "8e740b47",
   "metadata": {},
   "source": [
    "## Board Generator\n",
    "`Board` class generate list of snakes and ladders; and roll dice"
   ]
  },
  {
   "cell_type": "code",
   "execution_count": 2,
   "id": "0960989c",
   "metadata": {},
   "outputs": [],
   "source": [
    "class Board: \n",
    "    \n",
    "    def __init__(self, snake_count, snake_len, ladder_count, ladder_len):\n",
    "        \"\"\"\n",
    "        snake_count: number of snakes in the board\n",
    "        snake_len: possible maximum length of snake\n",
    "        ladder_count: number of ladders in the board\n",
    "        ladder_len: possible maximum length of ladder\n",
    "        \"\"\"\n",
    "        self.turns = [] \n",
    "        self.snakes = self.snake_generator(snake_count, snake_len) #create snakes\n",
    "        self.ladders = self.ladder_generator(ladder_count, ladder_len) #create ladders\n",
    "\n",
    "        \n",
    "    def snake_generator(self, snake_count, snake_len, square_count = 100):\n",
    "        \"\"\"\n",
    "        return list of two list, index of snake head and index of snake tail \n",
    "        \n",
    "        snake_count: number of snakes in the board\n",
    "        snake_len: possible maximum length of snake\n",
    "        \"\"\"\n",
    "        snakes  = [[],[]] # [[snake head],[snake tail]]\n",
    "        for _ in range(snake_count):\n",
    "            \n",
    "            #snake head\n",
    "            snake_head = np.random.randint(1,square_count-1) #max value of snake head is index 98\n",
    "            while snake_head in snakes[0]: #a square can't have more than one snake head \n",
    "                snake_head = np.random.randint(1, square_count-1)\n",
    "            snakes[0].append(snake_head)\n",
    "\n",
    "            #snake tail\n",
    "            snake_tail = max(snake_head - np.random.randint(1, snake_len), 0)\n",
    "            while snake_tail in snakes[0]: #snake tail and snake head can't share the same square\n",
    "                snake_tail = max(snake_head - np.random.randint(1, snake_len), 0)\n",
    "            snakes[1].append(snake_tail)\n",
    "            \n",
    "        return snakes\n",
    "\n",
    "\n",
    "    def ladder_generator(self, ladder_count, ladder_len, square_count = 100):\n",
    "        \"\"\"\n",
    "        return list of two list, index of ladder bottom and ladder top\n",
    "        \n",
    "        ladder_count: number of ladders in the board\n",
    "        ladder_len: possible maximum length of ladder\n",
    "        \"\"\"\n",
    "        ladders = [[],[]] # [[ladder bottom],[ladder top]]\n",
    "        for _ in range(ladder_count):\n",
    "            \n",
    "            #ladder bottom\n",
    "            ladder_bottom = np.random.randint(1,square_count-1) #max index of ladder bottom is 98\n",
    "            #ladder bottom can't occupy the same square with snake head, ladders bottom and snake tail\n",
    "            while ladder_bottom in self.snakes[0] or ladder_bottom in ladders[0] or ladder_bottom in self.snakes[1]:\n",
    "                ladder_bottom = np.random.randint(1,square_count-1)\n",
    "            ladders[0].append(ladder_bottom)\n",
    "            \n",
    "            #ladder top\n",
    "            ladder_top= min(ladder_bottom + np.random.randint(1,ladder_len), square_count-1) #max index of ladder top is 99\n",
    "            #ladder top can't occupy the same square with snake head and ladder bottom\n",
    "            while ladder_top in self.snakes[0] or ladder_top in ladders[0]: \n",
    "                ladder_top = min(ladder_bottom + np.random.randint(1,ladder_len), square_count-1)\n",
    "            ladders[1].append(ladder_top)\n",
    "        return ladders\n",
    "            \n",
    "    def roll_dice(self):\n",
    "        return np.random.randint(1,7)"
   ]
  },
  {
   "cell_type": "markdown",
   "id": "71e09540",
   "metadata": {},
   "source": [
    "## Monte Carlo\n",
    "`Game_Monte_Carlo` class utilizes Monte Carlo method to simulate snake and ladder game."
   ]
  },
  {
   "cell_type": "code",
   "execution_count": 3,
   "id": "3e99d1ad",
   "metadata": {},
   "outputs": [],
   "source": [
    "class Game_Monte_Carlo(Board): \n",
    "    \n",
    "    def __init__(self, snake_count, snake_len, ladder_count, ladder_len, rounds=150):\n",
    "        super().__init__(snake_count, snake_len, ladder_count, ladder_len)\n",
    "        self.mean = self.play_game(rounds) #mean of turns to finish the board game\n",
    "\n",
    "    def move(self, state):\n",
    "        \"\"\"\n",
    "        return state of player after moving \n",
    "        \n",
    "        state: current state of player    \n",
    "        \"\"\"\n",
    "        state = state + self.roll_dice() + self.roll_dice()\n",
    "        if state in self.snakes[0]:\n",
    "            state = self.snakes[1][self.snakes[0].index(state)] #eaten by snake\n",
    "        elif state in self.ladders[0]:\n",
    "            state = self.ladders[1][self.ladders[0].index(state)] #climb ladder\n",
    "        return state\n",
    "\n",
    "    def play_game(self, rounds):\n",
    "        \"\"\"\n",
    "        game play iteration \n",
    "        \n",
    "        rounds: round to iterate \n",
    "        \"\"\"\n",
    "        turns = np.array([])\n",
    "        for _ in range(rounds):\n",
    "            state, turn = 0, 0\n",
    "            while state <= 99:\n",
    "                state = self.move(state)\n",
    "                turn += 1\n",
    "            turns= np.append(turns, turn)\n",
    "        return np.mean(turns)\n",
    "\n",
    "def monte_carlo(params, variable, var_range, board_count=100, rounds=150):\n",
    "    \"\"\"\n",
    "    return statistic of a game with certain settings \n",
    "    \n",
    "    params: parameters of board\n",
    "    variable: game settings to chage, e.g snake_len, snake_count, etc\n",
    "    var_range: range of game settings\n",
    "    board_count: number of board to create\n",
    "    rounds: iteration for each board\n",
    "    \"\"\"\n",
    "    mean, std_dev = [], []\n",
    "    for val in var_range:\n",
    "        params[variable] = val\n",
    "        turns = np.array([])\n",
    "        for i in range(board_count): #create new game (new snake and ladder)\n",
    "            board = Game_Monte_Carlo(**params, rounds = rounds) #new boards\n",
    "            turns = np.append(board.mean, turns)\n",
    "        mean.append(np.mean(turns))\n",
    "        std_dev.append(np.std(turns))\n",
    "    return(var_range, mean, std_dev)"
   ]
  },
  {
   "cell_type": "markdown",
   "id": "1cc19e9e",
   "metadata": {},
   "source": [
    "## Markov Chain\n",
    "`Game_Markov` class utilizes Markov Chain to simulate snake and ladder game."
   ]
  },
  {
   "cell_type": "code",
   "execution_count": 4,
   "id": "304c44f4",
   "metadata": {},
   "outputs": [],
   "source": [
    "class Game_Markov(Board):\n",
    "    #probability of two dice (0 to 12)\n",
    "    prob_dice = [0, 0, 1/36, 2/36, 3/36, 4/36, 5/36, 6/36, 5/36, 4/36, 3/36, 2/36, 1/36]\n",
    "    n = 100 #size of board\n",
    "    \n",
    "    def __init__(self, snake_count, snake_len, ladder_count, ladder_len):\n",
    "        super().__init__(snake_count, snake_len, ladder_count, ladder_len) #create snakes and ladders\n",
    "        self.trn = 97 #number transient state\n",
    "        self.all_one = np.ones((self.trn,1)) # all-one matrix \n",
    "        \n",
    "        self.M = self.trans_matrix() #M, transition matrix\n",
    "        \n",
    "        #Components of Canonical form Markov Chain matrix\n",
    "        self.Q = self.M[:self.trn,:self.trn] # Q\n",
    "        self.R  = self.M[:self.trn,self.trn:] # R\n",
    "        self.I = np.eye(self.trn) # I, identity matrix\n",
    "        \n",
    "        self.N = np.linalg.inv((self.I-self.Q)) #fundamental matrix, N = (I-Q)^-1 \n",
    "        self.t = self.N.dot(self.all_one)# absorption time, t = N ∙ all-one matrix\n",
    "        self.B = self.N.dot(self.R) # absorption probability, B = N ∙ R\n",
    "        \n",
    "        self.turn = self.t[1][0] #average turn taken if start from square 0\n",
    "        \n",
    "    def trans_matrix(self):\n",
    "        \"\"\"\n",
    "        return transition matrix\n",
    "        \"\"\"\n",
    "        n = self.n\n",
    "        M = np.zeros([n, n]) #transition matrix\n",
    "        \n",
    "        #transient states\n",
    "        for i in range(n):\n",
    "            k = min(len(self.prob_dice), n-i)\n",
    "            M[i, i:i+k] = self.prob_dice[0:k]\n",
    "            M[i, i+k-1] += np.sum(self.prob_dice[k:]) #exceed \n",
    "        \n",
    "        #snakes \n",
    "        for i in range(len(self.snakes[0])):\n",
    "            snake_head, snake_tail = self.snakes[0][i], self.snakes[1][i]\n",
    "            M[:,snake_tail] += M[:,snake_head] #settle tail\n",
    "            M[:,snake_head] = 0 #settle head\n",
    "        \n",
    "        #ladders\n",
    "        for i in range(len(self.ladders[0])):\n",
    "            ladder_bottom, ladder_top = self.ladders[0][i], self.ladders[1][i]\n",
    "            M[:,ladder_top] += M[:,ladder_bottom] #settle top\n",
    "            M[:,ladder_bottom] = 0 #settle bottom\n",
    "            \n",
    "        return M\n",
    "\n",
    "def markov_chain(params, variable, var_range, board_count=100):\n",
    "    \"\"\"\n",
    "    return absorption time if start from square 0\n",
    "    \n",
    "    params: parameters of game \n",
    "    variable: game settings to chage, e.g snake_len, snake_count, etc\n",
    "    var_range: range of game settings\n",
    "    \"\"\"\n",
    "    turn_lst = [] # number of turns required to complete different boards with different cobination \n",
    "    for var in var_range:\n",
    "        params[variable] = var\n",
    "        round_lst = np.array([])\n",
    "        for _ in range(board_count): \n",
    "            board = Game_Markov(**params) #new board\n",
    "            round_lst = np.append(round_lst, board.turn) #number of turns required to complete the board\n",
    "        turn_lst.append(np.mean(round_lst)) \n",
    "    return (var_range, turn_lst)\n"
   ]
  },
  {
   "cell_type": "markdown",
   "id": "b6394e3b",
   "metadata": {},
   "source": [
    "## Game Theory"
   ]
  },
  {
   "cell_type": "markdown",
   "id": "ed5cd718",
   "metadata": {},
   "source": [
    "`Payoff` class utilizes Monte Carlo method to calculate the payoff of two players playing Snake and Ladder game with strategies."
   ]
  },
  {
   "cell_type": "code",
   "execution_count": 5,
   "id": "e56137f3",
   "metadata": {},
   "outputs": [],
   "source": [
    "class Payoff(Board): \n",
    "    \n",
    "    def __init__(self, snake_count, snake_len, ladder_count, ladder_len):\n",
    "        super().__init__(snake_count, snake_len, ladder_count, ladder_len)\n",
    "\n",
    "    def move(self, ply, opp, ply_strat):\n",
    "        \"\"\"\n",
    "        return next state of player if paying with ply_strat\n",
    "        \n",
    "        ply: state of player\n",
    "        opp: state of opponent\n",
    "        ply_strat: strategy of player (0 to 3)\n",
    "        \"\"\"\n",
    "        dices = [self.roll_dice(), self.roll_dice()] #two dice\n",
    "        ply_moves = [self.move_dice(ply, dice) for dice in dices] #possible moves of player\n",
    "        opp_moves = [self.move_dice(opp, dice) for dice in dices] #possible moves of opposition\n",
    "         \n",
    "        if ply_strat == 0: \n",
    "            next_state = self.strat_1(ply, opp, ply_moves, opp_moves) #play strategy 1\n",
    "        elif ply_strat == 1: \n",
    "            next_state = self.strat_2(ply, opp, ply_moves, opp_moves) #play strategy 2\n",
    "        elif ply_strat == 2: \n",
    "            next_state = self.strat_3(ply, opp, ply_moves, opp_moves) #play strategy 3\n",
    "            \n",
    "        return next_state\n",
    "    \n",
    "    def move_dice(self, state, dice):\n",
    "        \"\"\"\n",
    "        return state of player after moving the amount of the dice\n",
    "        \n",
    "        dice: amount of dice\n",
    "        state: state of the player\n",
    "        \"\"\"\n",
    "        state = state + dice\n",
    "        if state in self.snakes[0]:\n",
    "            state = self.snakes[1][self.snakes[0].index(state)] #eaten by snake\n",
    "        elif state in self.ladders[0]:\n",
    "            state = self.ladders[1][self.ladders[0].index(state)] #climb ladder\n",
    "        return state\n",
    "    \n",
    "\n",
    "    def play_game(self, p1_strat, p2_strat):\n",
    "        \"\"\"\n",
    "        append turns taken to finish the game to self.turns\n",
    "        \n",
    "        p1_strat: strategy of player1\n",
    "        p2_strat: strategy of player2\n",
    "        \"\"\"\n",
    "        turn, p1, p2 = 0, 0, 0\n",
    "        while p1 < 99 and p2 < 99: #new round/turn\n",
    "            p1, p2 = self.move(p1, p2, p1_strat) #p1 turn\n",
    "            p2, p1 = self.move(p2, p1, p2_strat) #p2 turn\n",
    "            turn += 1\n",
    "            \n",
    "        #result\n",
    "        res = 0 # p2 win\n",
    "        if p1 >=99 and p2 >= 99: #draw\n",
    "            res = 0.5\n",
    "        elif p1 >= 99: # p1 win\n",
    "            res = 1\n",
    "        self.turns.append(res) \n",
    "        \n",
    "    def strat_1(self, ply, opp, ply_moves, opp_moves):\n",
    "        \"\"\"\n",
    "        return the states of player and opponent after implementing strategy 1\n",
    "        \n",
    "        ply: current state of player\n",
    "        opp: current state of opposition\n",
    "        ply_moves: possible moves of player\n",
    "        opp_moves: possible moves of opposition\n",
    "        \"\"\"\n",
    "        \n",
    "        if (ply_moves[0]-ply) > (ply_moves[1]-ply): #if player choose dice 1 make the player move more\n",
    "            next_ply, next_opp = ply_moves[0], opp_moves[1]\n",
    "        else:\n",
    "            next_ply, next_opp = ply_moves[1], opp_moves[0]\n",
    "        return next_ply, next_opp\n",
    "        \n",
    "    \n",
    "    def strat_2(self, ply, opp, ply_moves, opp_moves):\n",
    "        \"\"\"\n",
    "        return the states of player and opponent after implementing strategy 2\n",
    "        \n",
    "        ply: current state of player\n",
    "        opp: current state of opposition\n",
    "        ply_moves: possible moves of player\n",
    "        opp_moves: possible moves of opposition\n",
    "        \"\"\"\n",
    "        if (opp_moves[1]-opp) < (opp_moves[0]-opp): #if player choose dice 1 make opponent move less\n",
    "            next_ply, next_opp = ply_moves[0], opp_moves[1]\n",
    "        else:\n",
    "            next_ply, next_opp = ply_moves[1], opp_moves[0]\n",
    "        return next_ply, next_opp\n",
    "\n",
    "    def strat_3(self, ply, opp, ply_moves, opp_moves):\n",
    "        \"\"\"\n",
    "        return the states of player and opponent after implementing strategy 3\n",
    "        \n",
    "        ply: current state of player\n",
    "        opp: current state of opposition\n",
    "        ply_moves: possible moves of player\n",
    "        opp_moves: possible moves of opposition\n",
    "        \"\"\"\n",
    "        if (ply_moves[0]-opp_moves[1]) > (ply_moves[1]-opp_moves[0]):  \n",
    "            next_ply, next_opp = ply_moves[0], opp_moves[1]\n",
    "        else:\n",
    "            next_ply, next_opp = ply_moves[1], opp_moves[0]\n",
    "        return next_ply, next_opp\n",
    "    \n",
    "\n",
    "def payoff(snake_count, snake_len, ladder_count, ladder_len, p1_strat, p2_strat, board_count=100, rounds=250):\n",
    "    \"\"\"\n",
    "    return payoff\n",
    "    \n",
    "    p1_strat: player 1 strategy\n",
    "    p2_strat: player 2 strategy\n",
    "    board_count: number of board (different snakes and ladders) created\n",
    "    rounds: number of rounds played for each new board\n",
    "    \"\"\"\n",
    "    prob_p1_lst = np.array([])\n",
    "    for i in range(board_count): #create new game (new snake and ladder)\n",
    "        board = Payoff(snake_count, snake_len, ladder_count, ladder_len) #new board\n",
    "        rounds_lst = np.array([])\n",
    "        for _ in range(rounds): \n",
    "            board.play_game(p1_strat, p2_strat) #replay game\n",
    "        prob_p1_lst = np.append(prob_p1_lst, [board.turns.count(0)/rounds])\n",
    "    return np.mean(prob_p1_lst)"
   ]
  },
  {
   "cell_type": "markdown",
   "id": "11873adf",
   "metadata": {},
   "source": [
    "# Section 5: Result "
   ]
  },
  {
   "cell_type": "code",
   "execution_count": 6,
   "id": "7283308e",
   "metadata": {},
   "outputs": [],
   "source": [
    "# variables\n",
    "var = [\"snake_count\", \"ladder_count\", \"snake_len\", \"ladder_len\"]\n",
    "\n",
    "# range of number of snakes & ladders\n",
    "count_start, count_end, count_step = 0, 21, 2 \n",
    "count_range  = range(count_start, count_end, count_step) \n",
    "\n",
    "# range of possible length of snakes & ladders\n",
    "len_start, len_end, len_step = 10, 101, 10\n",
    "len_range = range(len_start, len_end, len_step)\n",
    "\n",
    "# range of each variables in a list \n",
    "var_range = [count_range, count_range, len_range, len_range]"
   ]
  },
  {
   "cell_type": "markdown",
   "id": "d26f1d9c",
   "metadata": {},
   "source": [
    "**Markov Chain**"
   ]
  },
  {
   "cell_type": "code",
   "execution_count": 7,
   "id": "f5f7e555",
   "metadata": {},
   "outputs": [
    {
     "name": "stdout",
     "output_type": "stream",
     "text": [
      "Markov Chain Simulaton Progress Bar:\n"
     ]
    },
    {
     "data": {
      "application/vnd.jupyter.widget-view+json": {
       "model_id": "83da8eab0939453d937c56c8be1d1839",
       "version_major": 2,
       "version_minor": 0
      },
      "text/plain": [
       "  0%|          | 0/4 [00:00<?, ?it/s]"
      ]
     },
     "metadata": {},
     "output_type": "display_data"
    }
   ],
   "source": [
    "# simulate game with markov chain\n",
    "res_markov = []\n",
    "print(\"Markov Chain Simulaton Progress Bar:\")\n",
    "for i in tqdm_notebook(range(len(var))):\n",
    "    params = {\"snake_count\": 10, \"snake_len\": 50, \"ladder_count\": 10, \"ladder_len\": 50}\n",
    "    res_markov.append(markov_chain(params, var[i], var_range[i], board_count = 150))"
   ]
  },
  {
   "cell_type": "markdown",
   "id": "ffb08073",
   "metadata": {},
   "source": [
    "**Monte Carlo**"
   ]
  },
  {
   "cell_type": "code",
   "execution_count": 8,
   "id": "141c07c7",
   "metadata": {},
   "outputs": [
    {
     "name": "stdout",
     "output_type": "stream",
     "text": [
      "Monte Carlo Simulation Progress Bar:\n"
     ]
    },
    {
     "data": {
      "application/vnd.jupyter.widget-view+json": {
       "model_id": "f7d437f422c7428fbb807086b3e208f3",
       "version_major": 2,
       "version_minor": 0
      },
      "text/plain": [
       "  0%|          | 0/4 [00:00<?, ?it/s]"
      ]
     },
     "metadata": {},
     "output_type": "display_data"
    }
   ],
   "source": [
    "#simulate game with monte carlo\n",
    "print(\"Monte Carlo Simulation Progress Bar:\")\n",
    "res_monte = []\n",
    "for i in tqdm_notebook(range(len(var))):\n",
    "    params = {\"snake_count\": 10, \"snake_len\": 50, \"ladder_count\": 10, \"ladder_len\": 50}\n",
    "    res_monte.append(monte_carlo(params, var[i], var_range[i]))\n"
   ]
  },
  {
   "cell_type": "markdown",
   "id": "1bf9589a",
   "metadata": {},
   "source": [
    "**Compare**"
   ]
  },
  {
   "cell_type": "code",
   "execution_count": 9,
   "id": "e2e21d11",
   "metadata": {},
   "outputs": [
    {
     "data": {
      "text/plain": [
       "Text(0.5, 0.98, 'Average Number of Turns to Finish the Snake & Ladder Game under Various Settings \\n where the default setting is {snake_count: 10, snake_len: 50, ladder_count: 10, ladder_len: 50}')"
      ]
     },
     "execution_count": 9,
     "metadata": {},
     "output_type": "execute_result"
    },
    {
     "data": {
      "image/png": "[encoded data removed]",
      "text/plain": [
       "<Figure size 1000x500 with 4 Axes>"
      ]
     },
     "metadata": {},
     "output_type": "display_data"
    }
   ],
   "source": [
    "#plot result \n",
    "fig, axs = plt.subplots(2, 2, constrained_layout = True)\n",
    "\n",
    "var_range_str = [list(map(str, i)) for i in var_range]\n",
    "width, gap = 0.5, 0.1\n",
    "\n",
    "r = [np.arange((count_end - count_start)// count_step +1), np.arange((len_end - len_start)// len_step + 1)]\n",
    "\n",
    "for i in range(len(var)):\n",
    "    axs[i//2,i%2].bar(r[i//2] - width/2 + gap/2, res_monte[i][1], width=width-gap)\n",
    "    axs[i//2,i%2].bar(r[i//2] + width/2 - gap/2, res_markov[i][1], width=width-gap)\n",
    "    #print(pd.DataFrame({\"turns\":res_monte[i][1]}, index = res_monte[i][0]))\n",
    "    #print(pd.DataFrame({\"turns\":res_markov[i][1]}, index = res_markov[i][0]))\n",
    "    \n",
    "    axs[i//2,i%2].set_xlabel(var[i])\n",
    "    axs[i//2,i%2].set_ylabel('turns')\n",
    "    axs[i//2,i%2].set_xticks(r[i//2], var_range_str[i])\n",
    "    axs[i//2,i%2].set_title('figure {}'.format(i+1), loc='left')\n",
    "    \n",
    "    \n",
    "fig.set_figheight(5)\n",
    "fig.set_figwidth(10)\n",
    "fig.legend(['Monte Carlo', 'Markov Chain'], loc=8)\n",
    "fig.suptitle('Average Number of Turns to Finish the Snake & Ladder Game under Various Settings \\n where the default setting is {snake_count: 10, snake_len: 50, ladder_count: 10, ladder_len: 50}')"
   ]
  },
  {
   "cell_type": "markdown",
   "id": "dd1de09b",
   "metadata": {},
   "source": [
    "From the result we can observe that \n",
    "- *Figure 1,* when the number snakes increase, the expected number of turns needed to complete the game increase \n",
    "- *Figure 2,* when the number ladder increase, the expected number of turns needed to complete the game decreases\n",
    "- *Figure 3,* when possible maximum length of snake increase, the expected number of turns needed to complete the game increase \n",
    "- *Figure 4,* when possible maximum length of ladder increase, the expected number of turns needed to complete the game decrease "
   ]
  },
  {
   "cell_type": "markdown",
   "id": "c29ed369",
   "metadata": {},
   "source": [
    "**Payoff**"
   ]
  },
  {
   "cell_type": "code",
   "execution_count": 10,
   "id": "08478ea6",
   "metadata": {
    "scrolled": true
   },
   "outputs": [
    {
     "data": {
      "application/vnd.jupyter.widget-view+json": {
       "model_id": "1b2800b2e5ba409693d798bae7bb4ee3",
       "version_major": 2,
       "version_minor": 0
      },
      "text/plain": [
       "  0%|          | 0/9 [00:00<?, ?it/s]"
      ]
     },
     "metadata": {},
     "output_type": "display_data"
    },
    {
     "name": "stdout",
     "output_type": "stream",
     "text": [
      "player 1 payoff: \n",
      " [[0.45 0.49 0.56]\n",
      " [0.43 0.48 0.6 ]\n",
      " [0.33 0.35 0.47]] \n",
      "\n",
      "player 2 payoff: \n",
      " [[0.55 0.51 0.44]\n",
      " [0.57 0.52 0.4 ]\n",
      " [0.67 0.65 0.53]]\n"
     ]
    }
   ],
   "source": [
    "s = 3 #number of strategy\n",
    "np.random.seed(0)\n",
    "payoff_mtx = np.zeros([s, s])\n",
    "\n",
    "for i in tqdm_notebook(range(s**2)): \n",
    "    params = {\"snake_count\": 10, \"snake_len\": 75, \"ladder_count\": 10, \"ladder_len\": 75}\n",
    "    payoff_mtx[i//s,i%s] = round(payoff(**params, p1_strat=(i//s), p2_strat=(i%s)),2)\n",
    "\n",
    "print('player 1 payoff: \\n', payoff_mtx,'\\n')\n",
    "print('player 2 payoff: \\n', 1 - payoff_mtx)"
   ]
  },
  {
   "cell_type": "markdown",
   "id": "e4a4a36d",
   "metadata": {},
   "source": [
    "**Nash Equilibrium**"
   ]
  },
  {
   "cell_type": "code",
   "execution_count": 11,
   "id": "2c677552",
   "metadata": {
    "scrolled": true
   },
   "outputs": [
    {
     "data": {
      "text/plain": [
       "[(array([1., 0., 0.]), array([1., 0., 0.]))]"
      ]
     },
     "execution_count": 11,
     "metadata": {},
     "output_type": "execute_result"
    }
   ],
   "source": [
    "game = nash.Game(payoff_mtx, 1-payoff_mtx)\n",
    "equilibria = game.support_enumeration()\n",
    "list(equilibria)"
   ]
  },
  {
   "cell_type": "markdown",
   "id": "d1e6b8f0",
   "metadata": {},
   "source": [
    "It is a Pure Nash Equilibrium, which both players are playing the same pure strategy, where they choose the first strategy exclusively. Neither player has an incentive to unilaterally deviate from their chosen strategy since it is already optimal given the strategies of the other player."
   ]
  },
  {
   "cell_type": "markdown",
   "id": "05027fec",
   "metadata": {},
   "source": [
    "# Section 6: List of algorithms and concepts"
   ]
  },
  {
   "cell_type": "markdown",
   "id": "35af1665",
   "metadata": {},
   "source": [
    "## Monte Carlo \n",
    "**Estimating Probabilities:** Monte Carlo methods is used to estimate the probabilities of various events in the game. For example,  multiple games is simulated using random dice rolls and track how many turn does it take to finish a game. By repeating this simulation many times, average turns taken to finish a board is obtained. \n",
    "\n",
    "**Evaluating Payoff of Strategies:** Monte Carlo methods is used to evaluate different strategies in the game. Multiple games are simulated, where each game represents a different strategy being employed. With the outcomes of these simulations which is the probability of winning (payoff), the strategies can be assessed with game theory.\n",
    "    \n",
    "## Markov Chain \n",
    "**State:** Each state in the Markov Chain represents a specific square on the game board. I\n",
    "\n",
    "**Transition Probability:** The transition probabilities in the Markov Chain represent the chances of moving from one state (position) to another. In the Snake and Ladder game, these probabilities depend on the outcome of rolling the dice and the rules of the game. For example, the probability of moving from one position to another is determined by the numbers on the dice and the presence of snakes or ladders on the board.\n",
    "\n",
    "**Markov Property:** The Markov property applies to the Snake and Ladder game as the probability of transitioning to a future state depends only on the current state. In other words, the future positions of the players depend solely on their current positions and the result of the dice roll, without considering their previous moves.\n",
    "\n",
    "**Transition Matrix:** The transition matrix of the Markov Chain in the Snake and Ladder game represents the probabilities of moving from one position to another. Each element in the matrix corresponds to the probability of transitioning from one state (position) to another state.\n",
    "Absorbing time: The expected number of moves it takes for a player to finish the game from a given starting point.\n",
    "    \n",
    "## Game Theory \n",
    "**Players:** There are two players who take turns rolling the dice and moving their respective chess pieces on the board. \n",
    "\n",
    "**Strategies:** Each player selects a strategy, which involves choosing one of two rolled dice to be thier move, while the remanining is the opponent's move. The strategy are maximize their own progress or block the opponent's progress.\n",
    "\n",
    "**Payoffs:** The payoffs in the Snake and Ladder game could be defined as the probability of reaching the board \n",
    "\n",
    "**Nash Equilibrium:** In the Snake and Ladder game, a Nash equilibrium represents a combination of strategies where neither player has an incentive to change their strategy unilaterally. It could correspond to a situation where both players are playing optimally, given the other player's moves and the outcomes of their dice rolls.\n"
   ]
  }
 ],
 "metadata": {
  "kernelspec": {
   "display_name": "Python 3 (ipykernel)",
   "language": "python",
   "name": "python3"
  },
  "language_info": {
   "codemirror_mode": {
    "name": "ipython",
    "version": 3
   },
   "file_extension": ".py",
   "mimetype": "text/x-python",
   "name": "python",
   "nbconvert_exporter": "python",
   "pygments_lexer": "ipython3",
   "version": "3.8.8"
  }
 },
 "nbformat": 4,
 "nbformat_minor": 5
}
